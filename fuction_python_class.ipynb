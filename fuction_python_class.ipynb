{
 "cells": [
  {
   "cell_type": "code",
   "execution_count": null,
   "metadata": {},
   "outputs": [],
   "source": [
    "def func():\n",
    "    print(\"welcom to my func\")"
   ]
  },
  {
   "cell_type": "code",
   "execution_count": null,
   "metadata": {},
   "outputs": [],
   "source": [
    "func()\n",
    "func()\n",
    "func()\n",
    "func()"
   ]
  },
  {
   "cell_type": "code",
   "execution_count": null,
   "metadata": {},
   "outputs": [],
   "source": [
    "def add(a , b):\n",
    "    return f\" sum is {a+b}\"\n",
    "    "
   ]
  },
  {
   "cell_type": "code",
   "execution_count": null,
   "metadata": {},
   "outputs": [],
   "source": [
    "s=int(input(\"take ist number\"))\n",
    "q= int (input(\"take ist number\"))\n",
    "add(s , q)\n",
    "    "
   ]
  },
  {
   "cell_type": "code",
   "execution_count": null,
   "metadata": {},
   "outputs": [],
   "source": [
    "def max():\n",
    "    a=int(input(\"take ist number\"))\n",
    "    b= int (input(\"take ist number\"))\n",
    "    c=int(input(\"take ist number\"))\n",
    "    d= int (input(\"take ist number\"))\n",
    "    e=int(input(\"take ist number\"))\n",
    "    c=[a,b,c,d,e]\n",
    "    c.sort()\n",
    "    a=c[-1:len(c)]\n",
    "    print(a)\n",
    "    \n",
    "    \n",
    "    "
   ]
  },
  {
   "cell_type": "code",
   "execution_count": null,
   "metadata": {},
   "outputs": [],
   "source": [
    "\n",
    "max()"
   ]
  },
  {
   "cell_type": "code",
   "execution_count": null,
   "metadata": {},
   "outputs": [],
   "source": [
    "def maxs():\n",
    "    ans = input(\"numberx\").split(',')\n",
    "    return max([int(i) for i in ans])\n",
    "\n",
    "maxs()"
   ]
  },
  {
   "cell_type": "code",
   "execution_count": null,
   "metadata": {},
   "outputs": [],
   "source": [
    "def checks():\n",
    "    value =99\n",
    "    user = int  (input(\"numberx\"))\n",
    "    if user == value:\n",
    "        print(\"your value is Equal to  user\")\n",
    "    elif user > value:\n",
    "        print(\"your value is grater than user\")\n",
    "    elif user < value:\n",
    "        print(\"your value is less than user\")\n",
    "\n",
    "checks()"
   ]
  },
  {
   "cell_type": "code",
   "execution_count": null,
   "metadata": {},
   "outputs": [],
   "source": [
    "def checkstd():\n",
    "    feePaid = input(\"numberx\")\n",
    "    admitcard = input(\"numberx\")\n",
    "    if (feePaid == \"yes\" and admitcard == \"yes\" ):\n",
    "        print(\"you can give Exam\")\n",
    "    else:\n",
    "        print(\"you are not give exam\")\n",
    "\n",
    "\n",
    "checkstd()"
   ]
  },
  {
   "cell_type": "code",
   "execution_count": null,
   "metadata": {},
   "outputs": [],
   "source": [
    "def checkstd():\n",
    "    feePaid = input(\" plz fill fees status in Yes or No\")\n",
    "    admitcard = input(\"plz fill fees status in Yes or No\")\n",
    "    if (feePaid == \"yes\"):\n",
    "        if(admitcard == \"yes\" ):\n",
    "            print(\"you can give Exam\")\n",
    "            else:\n",
    "                print(\"you cannot give  Exam  b/c you have not Admit card\")\n",
    "                elif (admitcard == \"yes\"):\n",
    "                    if(feePaid == \"yes\" ):\n",
    "                        print(\"you can give Exam\")\n",
    "                        else:\n",
    "                            print(\"you cannot give  Exam  b/c you are Fees Defaulter\")\n",
    "                            else:\n",
    "                                print(\"you are not give exam B/c You have not Admit card and  also you are Fees Defaulter\")"
   ]
  },
  {
   "cell_type": "code",
   "execution_count": null,
   "metadata": {},
   "outputs": [],
   "source": [
    "checkstd()"
   ]
  },
  {
   "cell_type": "code",
   "execution_count": null,
   "metadata": {},
   "outputs": [],
   "source": [
    "def checkEvenOdd():\n",
    "    user = True\n",
    "    while(user):\n",
    "        num = input(\"Enter input\")\n",
    "        if num == \"exit\":\n",
    "            user=False\n",
    "        else:\n",
    "            number=int(num)\n",
    "            if number % 2 == 0:\n",
    "                print(\"Number is Even\")\n",
    "            else:\n",
    "                print(\"number is odd\")\n",
    "            \n",
    "        "
   ]
  },
  {
   "cell_type": "code",
   "execution_count": 4,
   "metadata": {},
   "outputs": [
    {
     "name": "stdout",
     "output_type": "stream",
     "text": [
      "Enter input2\n",
      "Number is Even\n",
      "Enter input3\n",
      "number is odd\n",
      "Enter input3\n",
      "number is odd\n",
      "Enter input2\n",
      "Number is Even\n",
      "Enter inputexit\n"
     ]
    }
   ],
   "source": [
    "checkEvenOdd()"
   ]
  },
  {
   "cell_type": "code",
   "execution_count": null,
   "metadata": {},
   "outputs": [],
   "source": []
  }
 ],
 "metadata": {
  "kernelspec": {
   "display_name": "Python 3",
   "language": "python",
   "name": "python3"
  },
  "language_info": {
   "codemirror_mode": {
    "name": "ipython",
    "version": 3
   },
   "file_extension": ".py",
   "mimetype": "text/x-python",
   "name": "python",
   "nbconvert_exporter": "python",
   "pygments_lexer": "ipython3",
   "version": "3.8.5"
  }
 },
 "nbformat": 4,
 "nbformat_minor": 4
}
