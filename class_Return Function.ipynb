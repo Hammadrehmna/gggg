{
 "cells": [
  {
   "cell_type": "code",
   "execution_count": null,
   "metadata": {},
   "outputs": [],
   "source": [
    "def fulName ():\n",
    "    fname=input('Your name is')\n",
    "    lname=input('Your name is')\n",
    "    full_name = f\"{fname}  {lname}\"\n",
    "    return full_name , {\"age\" : 23}\n"
   ]
  },
  {
   "cell_type": "code",
   "execution_count": null,
   "metadata": {},
   "outputs": [],
   "source": [
    "a =fulName()\n",
    "(name  , age)= a\n",
    "print(a)"
   ]
  },
  {
   "cell_type": "code",
   "execution_count": null,
   "metadata": {},
   "outputs": [],
   "source": [
    "age['age']\n",
    "name \n",
    "\n",
    "print(f\"My name is {name} and age is {age['age']}\" )"
   ]
  },
  {
   "cell_type": "code",
   "execution_count": null,
   "metadata": {},
   "outputs": [],
   "source": [
    "def salary(tsal):\n",
    "    incomText = (percent/100) * tsal\n",
    "    grossSalary = tsal - incomText\n",
    "    return grossSalary , { \"Text in percent\":f\"{percent} %\" } ,incomText\n",
    "   "
   ]
  },
  {
   "cell_type": "code",
   "execution_count": null,
   "metadata": {},
   "outputs": [],
   "source": [
    "tSalary = int( input(\"plese Enter Your Salary\"))\n",
    "incomText = int( input(\"plese Enter Your Salary\"))\n",
    "total = salary(tSalary , incomText )\n",
    "\n",
    "(income , textinpercent , incomText ) = total\n",
    "print(f\" your Salary is {income} and you have paid   {incomText}\")"
   ]
  },
  {
   "cell_type": "code",
   "execution_count": null,
   "metadata": {},
   "outputs": [],
   "source": [
    "def add(n1 , n2):\n",
    "    n=n1+n2\n",
    "    return n"
   ]
  },
  {
   "cell_type": "code",
   "execution_count": null,
   "metadata": {},
   "outputs": [],
   "source": [
    "add(n1=2 , n2=5)"
   ]
  },
  {
   "cell_type": "code",
   "execution_count": 9,
   "metadata": {},
   "outputs": [],
   "source": [
    "def salary(tsal):\n",
    "    if ( tsal < 50000):\n",
    "        return tsal\n",
    "    elif(tsal >= 50000  and tsal <= 100000):\n",
    "        incomText = (10/100) * tsal\n",
    "        grossSalary = tsal - incomText\n",
    "        print(\"grossSalary =>\" , grossSalary)\n",
    "        return grossSalary , incomText\n",
    "    elif( tsal >= 100000):\n",
    "        incomText = (20/100) * tsal\n",
    "        grossSalary = tsal - incomText\n",
    "        return grossSalary , incomText \n",
    "    "
   ]
  },
  {
   "cell_type": "code",
   "execution_count": 13,
   "metadata": {},
   "outputs": [
    {
     "name": "stdout",
     "output_type": "stream",
     "text": [
      "Please Enter your salary51000\n",
      "grossSalary => 45900.0\n",
      "(45900.0, 5100.0)\n"
     ]
    }
   ],
   "source": [
    "tsal = int(input (\"Please Enter your salary\"))\n",
    "gsal = salary(tsal)\n",
    "print(gsal)"
   ]
  },
  {
   "cell_type": "code",
   "execution_count": 33,
   "metadata": {},
   "outputs": [],
   "source": [
    "def taxCal(basic_salary):\n",
    "    tax =0\n",
    "    if(basic_salary < 50000):\n",
    "        tax = 0\n",
    "    elif(basic_salary >= 50000) and (basic_salary < 100000):\n",
    "        tax=10\n",
    "    elif (basic_salary < 100000):\n",
    "        tax=20\n",
    "    else:\n",
    "        tax=30\n",
    "    return tax\n",
    "        \n",
    "        "
   ]
  },
  {
   "cell_type": "code",
   "execution_count": 37,
   "metadata": {},
   "outputs": [],
   "source": [
    "def salary(tsal , present ):\n",
    "    incomText = (taxCal(tsal)/100) * tsal\n",
    "    grossSalary = (tsal - incomText) + commision(present)\n",
    "    return grossSalary  ,incomText"
   ]
  },
  {
   "cell_type": "code",
   "execution_count": 39,
   "metadata": {},
   "outputs": [
    {
     "data": {
      "text/plain": [
       "(46000.0, 5000.0)"
      ]
     },
     "execution_count": 39,
     "metadata": {},
     "output_type": "execute_result"
    }
   ],
   "source": [
    "salary(50000 , 20)"
   ]
  },
  {
   "cell_type": "code",
   "execution_count": 36,
   "metadata": {},
   "outputs": [],
   "source": [
    "def commision(present):\n",
    "    pressents = 0\n",
    "    if(present < 10):\n",
    "        pressents = 0\n",
    "    elif(present >= 20) and (present < 30):\n",
    "        pressents=1000\n",
    "    else:\n",
    "        pressents=2000\n",
    "    return pressents\n",
    "\n",
    "        "
   ]
  },
  {
   "cell_type": "code",
   "execution_count": null,
   "metadata": {},
   "outputs": [],
   "source": []
  }
 ],
 "metadata": {
  "kernelspec": {
   "display_name": "Python 3",
   "language": "python",
   "name": "python3"
  },
  "language_info": {
   "codemirror_mode": {
    "name": "ipython",
    "version": 3
   },
   "file_extension": ".py",
   "mimetype": "text/x-python",
   "name": "python",
   "nbconvert_exporter": "python",
   "pygments_lexer": "ipython3",
   "version": "3.8.5"
  }
 },
 "nbformat": 4,
 "nbformat_minor": 4
}
